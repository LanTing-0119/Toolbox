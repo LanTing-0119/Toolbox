{
 "cells": [
  {
   "cell_type": "code",
   "execution_count": 17,
   "id": "7fa814c8-aa60-4f46-9244-8bc7af645567",
   "metadata": {},
   "outputs": [
    {
     "name": "stdout",
     "output_type": "stream",
     "text": [
      "Iteration 0, loss: 24.013769149780273\n",
      "Iteration 20, loss: 1.2995754480361938\n",
      "Iteration 40, loss: 0.7127510905265808\n",
      "Iteration 60, loss: 0.5503060817718506\n",
      "Iteration 80, loss: 0.4767545163631439\n",
      "Iteration 100, loss: 0.4362272322177887\n",
      "Iteration 120, loss: 0.4106407165527344\n",
      "Iteration 140, loss: 0.3869839012622833\n",
      "Iteration 160, loss: 0.36737626791000366\n",
      "Iteration 180, loss: 0.3564218282699585\n"
     ]
    },
    {
     "data": {
      "image/png": "[encoded data removed]",
      "text/plain": [
       "<Figure size 640x480 with 1 Axes>"
      ]
     },
     "metadata": {},
     "output_type": "display_data"
    }
   ],
   "source": [
    "import torch\n",
    "import torch.nn as nn\n",
    "import torch.optim as optim\n",
    "import matplotlib.pyplot as plt\n",
    "# plt.rcParams['font.sans-serif'] = ['Songti SC']  # 使用宋体\n",
    "plt.rcParams['font.sans-serif'] = ['Heiti TC']  # 使用黑体\n",
    "plt.rcParams['axes.unicode_minus'] = False    # 正常显示负号\n",
    "\n",
    "\n",
    "\n",
    "# 假设已经定义好 CNN 类，并加载预训练权重\n",
    "model = CNN()\n",
    "model.load_state_dict(torch.load(\"mnist_cnn.pth\", map_location=torch.device('cpu')))\n",
    "model.eval()  # 设置为评估模式\n",
    "\n",
    "# 设定目标类别，这里假设目标类别为数字 3\n",
    "target_class = 3\n",
    "\n",
    "# 构造目标输出向量（未经 softmax 的 logits）\n",
    "# 例如，我们希望目标类别的 logit 较高（设为 10.0），其它类别为 0\n",
    "target_output = torch.zeros((1, 10))\n",
    "target_output[0, target_class] = 10.0\n",
    "\n",
    "# 初始化一个输入图像（随机噪声），并设置需要计算梯度\n",
    "generated = torch.randn((1, 1, 28, 28), requires_grad=True)\n",
    "\n",
    "# 优化器针对生成的图像进行优化\n",
    "optimizer = optim.Adam([generated], lr=0.1)\n",
    "\n",
    "# 定义损失函数，用 MSELoss 计算模型输出与目标输出之间的差异\n",
    "criterion = nn.MSELoss()\n",
    "\n",
    "num_iterations = 200\n",
    "for i in range(num_iterations):\n",
    "    optimizer.zero_grad()\n",
    "    \n",
    "    # 前向传播，获得未经 softmax 的 logits\n",
    "    output = model(generated)\n",
    "    \n",
    "    # 计算损失，目标是让模型输出接近 target_output\n",
    "    loss = criterion(output, target_output)\n",
    "    \n",
    "    # 反向传播计算梯度，并更新生成图像\n",
    "    loss.backward()\n",
    "    optimizer.step()\n",
    "    \n",
    "    # 将生成图像像素限制在 [0, 1] 范围内\n",
    "    with torch.no_grad():\n",
    "        generated.clamp_(0, 1)\n",
    "    \n",
    "    if i % 20 == 0:\n",
    "        print(f\"Iteration {i}, loss: {loss.item()}\")\n",
    "\n",
    "# 将生成的图像转换为 numpy 数组，并展示\n",
    "generated_np = generated.detach().cpu().numpy()[0, 0]\n",
    "plt.imshow(generated_np, cmap='gray')\n",
    "plt.title(f\"反向生成的图像 - 目标数字: {target_class}\")\n",
    "plt.axis('off')\n",
    "plt.show()\n"
   ]
  },
  {
   "cell_type": "code",
   "execution_count": null,
   "id": "ffd719a8-6f2c-4adb-84d9-caa606b65e63",
   "metadata": {},
   "outputs": [],
   "source": []
  },
  {
   "cell_type": "code",
   "execution_count": null,
   "id": "2f43b4e5-bb50-4323-9df2-2316f92a2d30",
   "metadata": {},
   "outputs": [],
   "source": []
  },
  {
   "cell_type": "code",
   "execution_count": null,
   "id": "15bb1f0b-0043-4c3c-9715-e7578d6cfe90",
   "metadata": {},
   "outputs": [],
   "source": []
  },
  {
   "cell_type": "code",
   "execution_count": null,
   "id": "e84b60ca-29fc-4317-a50c-9b083dc95295",
   "metadata": {},
   "outputs": [],
   "source": []
  },
  {
   "cell_type": "code",
   "execution_count": null,
   "id": "ffa4d83c-26a5-4a18-bc2c-34fe25bd3a40",
   "metadata": {},
   "outputs": [],
   "source": []
  },
  {
   "cell_type": "code",
   "execution_count": null,
   "id": "8a760f9d-2618-4823-be31-43e7535e86ea",
   "metadata": {},
   "outputs": [],
   "source": []
  }
 ],
 "metadata": {
  "kernelspec": {
   "display_name": "Python [conda env:mnist_noise_figure]",
   "language": "python",
   "name": "conda-env-mnist_noise_figure-py"
  },
  "language_info": {
   "codemirror_mode": {
    "name": "ipython",
    "version": 3
   },
   "file_extension": ".py",
   "mimetype": "text/x-python",
   "name": "python",
   "nbconvert_exporter": "python",
   "pygments_lexer": "ipython3",
   "version": "3.10.16"
  }
 },
 "nbformat": 4,
 "nbformat_minor": 5
}
